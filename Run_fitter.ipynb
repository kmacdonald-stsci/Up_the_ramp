{
 "cells": [
  {
   "cell_type": "markdown",
   "metadata": {
    "collapsed": true
   },
   "source": [
    "## Notebook to run the fitter on multiple ramps"
   ]
  },
  {
   "cell_type": "code",
   "execution_count": null,
   "metadata": {
    "collapsed": true
   },
   "outputs": [],
   "source": [
    "import numpy as np\n",
    "from ramp_utils.ramp import RampTimeSeq,RampMeasurement\n",
    "from ramp_utils.fitter import IterativeFitter\n",
    "import time, sys, pickle, bz2\n",
    "from multiprocessing import Pool\n",
    "from scipy.interpolate import interp1d\n",
    "\n",
    "%matplotlib notebook"
   ]
  },
  {
   "cell_type": "markdown",
   "metadata": {},
   "source": [
    "### Set the working directory for saving the results"
   ]
  },
  {
   "cell_type": "code",
   "execution_count": null,
   "metadata": {
    "collapsed": true
   },
   "outputs": [],
   "source": [
    "dirsave = '/user/gennaro/Functional_work/Up_the_ramp_myfork/Simulations_results/'\n",
    "filename = 'Test_1.pbz2'"
   ]
  },
  {
   "cell_type": "markdown",
   "metadata": {},
   "source": [
    "#### These are two auxiliary function used to generate CRhits \n",
    "#### A good number for WFC3 can be found in http://www.stsci.edu/hst/wfc3/documents/ISRs/WFC3-2009-40.pdf, with ~ 2.5e-5 hits per second per pixel\n"
   ]
  },
  {
   "cell_type": "code",
   "execution_count": null,
   "metadata": {
    "collapsed": true
   },
   "outputs": [],
   "source": [
    "def generateCR_DNs(size):\n",
    "    '''\n",
    "    Just generate random uniform DNs\n",
    "    '''\n",
    "    return 1000.*np.random.uniform(size=size)\n",
    "\n",
    "def generateCR(myramp,CRrate=2.5e-5):\n",
    "    '''\n",
    "    Main CR generation function that generates CR hit times and depositied counts\n",
    "    \n",
    "    :CRrate:\n",
    "        rate of CR hits in hits/second\n",
    "    '''\n",
    "    \n",
    "    myCRnumber = np.random.poisson(lam=CRrate*myramp.read_times[-1])\n",
    "\n",
    "    if myCRnumber > 0:\n",
    "        mytimes = myramp.read_times[-1]*np.random.uniform(size=myCRnumber)\n",
    "        mycounts = generateCR_DNs(myCRnumber)\n",
    "        myCRdict = {'times':mytimes.tolist(),'counts':mycounts.tolist()}\n",
    "    else:\n",
    "        myCRdict = None\n",
    "\n",
    "    return myCRdict"
   ]
  },
  {
   "cell_type": "markdown",
   "metadata": {},
   "source": [
    "#### Auxiliary function to generate cumulative background electrons\n",
    "Used to test the fitter with non-constant flux"
   ]
  },
  {
   "cell_type": "code",
   "execution_count": null,
   "metadata": {
    "collapsed": true
   },
   "outputs": [],
   "source": [
    "def get_vbg_electrons(times,vbg_cr,meas,mean_bg_cr=None):\n",
    "    '''\n",
    "    Given a tabulated form for the variable background time dependency,\n",
    "    generate a number of electrons per each read interval in the ramp\n",
    "    \n",
    "    :times:\n",
    "        times at which the countrate is tabulated\n",
    "    \n",
    "    :vbg_cr:\n",
    "        values of the time variable background at those times   \n",
    "    \n",
    "    :meas:\n",
    "        a RampMeasurement object\n",
    "    \n",
    "    :mean_bg_cr:\n",
    "        the mean value for normalizing the countrate within the interval    \n",
    "    '''\n",
    "\n",
    "    \n",
    "    #Create an interpolator from the tabulated values and interpolate at the ramp read times\n",
    "    bg_int = interp1d(times,vbg_cr,'quadratic')\n",
    "    varbg = bg_int(meas.RTS.read_times)\n",
    "\n",
    "    #Normalize if requested\n",
    "    if mean_bg_cr is not None:\n",
    "        dt = meas.RTS.read_times[-1]-meas.RTS.read_times[0]\n",
    "        t_avg = np.trapz(varbg,meas.RTS.read_times) / dt\n",
    "        varbg = varbg/t_avg * mean_bg_cr\n",
    "\n",
    "    #Get the total accumulated electrons\n",
    "    bg_e=[0]\n",
    "    bg_e.extend([np.random.poisson(lam=vb*dt) for vb,dt in zip(0.5*(varbg[1:]+varbg[:-1]),meas.RTS.read_times[1:]-meas.RTS.read_times[:-1]) ])\n",
    "    bg_e = np.asarray(bg_e)\n",
    "    \n",
    "    return np.cumsum(bg_e)\n"
   ]
  },
  {
   "cell_type": "markdown",
   "metadata": {},
   "source": [
    "### Define the read sequences"
   ]
  },
  {
   "cell_type": "code",
   "execution_count": null,
   "metadata": {
    "scrolled": false
   },
   "outputs": [],
   "source": [
    "dt,nf,ns,ng = 6.,1,0,17\n",
    "myramp1 = RampTimeSeq('GENERIC',ng,nframes=nf, nskips=ns, read_times=dt*np.arange(ng*(nf+ns)))\n",
    "\n",
    "dt,nf,ns,ng = 8.,1,0,13\n",
    "myramp2 = RampTimeSeq('GENERIC',ng,nframes=nf, nskips=ns, read_times=dt*np.arange(ng*(nf+ns)))\n",
    "\n",
    "dt,nf,ns,ng = 12.,1,0,9\n",
    "myramp3 = RampTimeSeq('GENERIC',ng,nframes=nf, nskips=ns, read_times=dt*np.arange(ng*(nf+ns)))\n",
    "\n",
    "dt,nf,ns,ng = 16.,1,0,7\n",
    "myramp4 = RampTimeSeq('GENERIC',ng,nframes=nf, nskips=ns, read_times=dt*np.arange(ng*(nf+ns)))\n",
    "\n",
    "dt,nf,ns,ng = 24.,1,0,5\n",
    "myramp5 = RampTimeSeq('GENERIC',ng,nframes=nf, nskips=ns, read_times=dt*np.arange(ng*(nf+ns)))\n",
    "\n",
    "\n",
    "myramp6 = RampTimeSeq('HST/WFC3/IR',15,samp_seq='SPARS100') \n",
    "\n",
    "\n",
    "for ramp in [myramp6]:\n",
    "    ramp.test_plot()"
   ]
  },
  {
   "cell_type": "markdown",
   "metadata": {},
   "source": [
    "### Define the detector charachteristics\n",
    "This step is necessary when the ramps are of **GENERIC** type"
   ]
  },
  {
   "cell_type": "code",
   "execution_count": null,
   "metadata": {
    "collapsed": true
   },
   "outputs": [],
   "source": [
    "gain=1\n",
    "RON=20\n",
    "KTC=50\n",
    "bias=10000\n",
    "full_well=100000"
   ]
  },
  {
   "cell_type": "markdown",
   "metadata": {},
   "source": [
    "### Setup the properties of the measurements on which to run the fitter"
   ]
  },
  {
   "cell_type": "code",
   "execution_count": null,
   "metadata": {
    "collapsed": true
   },
   "outputs": [],
   "source": [
    "myfluxes = [1.,4,16,64]\n",
    "myramps  = [myramp6,myramp6,myramp6,myramp6]\n",
    "CRrate   = 5e-4\n",
    "\n",
    "tbg = np.linspace(0,1500,10)\n",
    "cbg = np.array([1.,1.2,1.5,1.3,1.7,2.,2.2,2.4,2.0,1.5])\n",
    "\n",
    "mybgs = [None,None,None,None]\n",
    "#         {'times':tbg,'vbg_cr':cbg,'mean_bg_cr':0.5}\n",
    "#         {'times':tbg,'vbg_cr':cbg,'mean_bg_cr':1.}\n",
    "#        ]\n"
   ]
  },
  {
   "cell_type": "markdown",
   "metadata": {},
   "source": [
    "### Setup the fitter method and options"
   ]
  },
  {
   "cell_type": "code",
   "execution_count": null,
   "metadata": {
    "collapsed": true
   },
   "outputs": [],
   "source": [
    "myfitpars = {'one_iteration_method':'Nelder-Mead'}\n"
   ]
  },
  {
   "cell_type": "markdown",
   "metadata": {},
   "source": [
    "### Setup the job"
   ]
  },
  {
   "cell_type": "code",
   "execution_count": null,
   "metadata": {
    "collapsed": true
   },
   "outputs": [],
   "source": [
    "ntest    = 25\n",
    "printevery = 5\n",
    "n_jobs = 4"
   ]
  },
  {
   "cell_type": "markdown",
   "metadata": {},
   "source": [
    "### Run the fitter on multiple ramps"
   ]
  },
  {
   "cell_type": "markdown",
   "metadata": {},
   "source": [
    "#### Function that does the job for a single flux/ramp/background combination"
   ]
  },
  {
   "cell_type": "code",
   "execution_count": null,
   "metadata": {
    "collapsed": true
   },
   "outputs": [],
   "source": [
    "def one_flux_one_ramp(j,myflux,myramp,extra_bg=None):\n",
    "\n",
    "    \n",
    "    ts = time.time()\n",
    "\n",
    "    goodints_p = np.empty([ntest,len(myramp.group_times)-1],dtype=np.bool_)\n",
    "    CRlist_p   = []\n",
    "    meas_p     = []\n",
    "    counter_p  = np.empty(ntest)\n",
    "    error_p    = np.empty(ntest)\n",
    "    outerate_p = np.empty(ntest)\n",
    "    crloops_counter_p  = np.empty(ntest)\n",
    "    gof_stat_p = np.empty(ntest)\n",
    "    gof_pval_p = np.empty(ntest)\n",
    "    extra_bg_p = []\n",
    "\n",
    "    for i in range(ntest):\n",
    "        myCRdict = generateCR(myramp,CRrate=CRrate)\n",
    "        CRlist_p.append(myCRdict)\n",
    "        \n",
    "        if myramp.detector == 'GENERIC':\n",
    "            mymeas = RampMeasurement(myramp,myflux,gain=1,RON=RON,KTC=KTC,bias=bias,full_well=full_well,CRdict=myCRdict)\n",
    "        else:\n",
    "            mymeas = RampMeasurement(myramp,myflux,CRdict=myCRdict)\n",
    "        \n",
    "        if extra_bg is not None:\n",
    "            ebh = get_vbg_electrons(extra_bg['times'],extra_bg['vbg_cr'],mymeas,mean_bg_cr=extra_bg['mean_bg_cr'])   \n",
    "            mymeas.add_background(ebh)\n",
    "        else:\n",
    "            ebh = None\n",
    "\n",
    "        meas_p.append(mymeas)\n",
    "        extra_bg_p.append(ebh)\n",
    "        \n",
    "        myfitter = IterativeFitter(mymeas,fitpars = myfitpars)\n",
    "        error_p[i],counter_p[i], goodints_p[i,:], crloops_counter_p[i]  = myfitter.perform_fit()\n",
    "        outerate_p[i] = myfitter.mean_electron_rate\n",
    "        myfitter.goodness_of_fit(mode='Squared-deviations')\n",
    "        gof_stat_p[i] = myfitter.gof_stat\n",
    "        gof_pval_p[i] = myfitter.gof_pval\n",
    "        \n",
    "            \n",
    "        if ((i+1) % printevery) == 0:\n",
    "            print(\"{0:5.1%}\".format(float(i+1) / ntest),'of', j+1, 'out of', len(myfluxes))\n",
    "            sys.stdout.flush()\n",
    "            \n",
    "    te = time.time()\n",
    "    print('Elapsed time for js {}: {:8.2f} minutes'.format(j,(te-ts)/60.))\n",
    "\n",
    "    return j,goodints_p,CRlist_p,meas_p,counter_p,error_p,crloops_counter_p,outerate_p,gof_stat_p,gof_pval_p,extra_bg_p\n",
    "\n",
    "\n"
   ]
  },
  {
   "cell_type": "markdown",
   "metadata": {},
   "source": [
    "#### Cell that iterates over all the input fluxes/ramp/background combinations"
   ]
  },
  {
   "cell_type": "code",
   "execution_count": null,
   "metadata": {},
   "outputs": [],
   "source": [
    "inputs = [ [j,mytuple[0],mytuple[1],mytuple[2]] for j,mytuple in enumerate(zip(myfluxes,myramps,mybgs))]\n",
    "print('js   Fluxes  Ngroups    Mean varbg')\n",
    "for inp in inputs:\n",
    "    \n",
    "    if inp[3] is None:\n",
    "        cbg = 'None'\n",
    "    else:\n",
    "        cbg = inp[3]['mean_bg_cr']\n",
    "    \n",
    "    print('{:2d} {:8.3f}    {:3d}         {}'.format(inp[0],inp[1],inp[2].ngroups,cbg))\n",
    "\n",
    "mypool = Pool(n_jobs)\n",
    "js,goodints,CRlist,meas_list,counter_list,error_list,crloops_counter_list,outerate_list,gof_stat_list,gof_pval_list,extra_bg_list = map(list, zip(*mypool.starmap(one_flux_one_ramp,inputs)))"
   ]
  },
  {
   "cell_type": "markdown",
   "metadata": {},
   "source": [
    "### Save the results"
   ]
  },
  {
   "cell_type": "code",
   "execution_count": null,
   "metadata": {
    "collapsed": true
   },
   "outputs": [],
   "source": [
    "dicttosave = {'js':js,\n",
    "              'goodints':goodints,\n",
    "              'CRlist':CRlist,\n",
    "              'meas_list':meas_list,\n",
    "              'counter_list':counter_list,\n",
    "              'error_list':error_list,\n",
    "              'crloops_counter_list':crloops_counter_list,\n",
    "              'outerate_list':outerate_list,\n",
    "              'gof_stat_list':gof_stat_list,\n",
    "              'gof_pval_list':gof_pval_list,\n",
    "              'myfluxes':myfluxes,\n",
    "              'myramps':myramps,\n",
    "              'extra_bg_list':extra_bg_list\n",
    "             }\n",
    "              \n",
    "with bz2.BZ2File(dirsave+filename, 'w') as f:\n",
    "        pickle.dump(dicttosave, f)\n",
    "\n"
   ]
  }
 ],
 "metadata": {
  "kernelspec": {
   "display_name": "Python 3",
   "language": "python",
   "name": "python3"
  },
  "language_info": {
   "codemirror_mode": {
    "name": "ipython",
    "version": 3
   },
   "file_extension": ".py",
   "mimetype": "text/x-python",
   "name": "python",
   "nbconvert_exporter": "python",
   "pygments_lexer": "ipython3",
   "version": "3.5.4"
  }
 },
 "nbformat": 4,
 "nbformat_minor": 2
}
