{
 "cells": [
  {
   "cell_type": "markdown",
   "metadata": {
    "collapsed": true
   },
   "source": [
    "## Notebook to produce plots for the Gennaro & Khandrika ISR on up-the-ramp fitting"
   ]
  },
  {
   "cell_type": "code",
   "execution_count": null,
   "metadata": {
    "collapsed": true
   },
   "outputs": [],
   "source": [
    "import pandas as pd\n",
    "import numpy as np\n",
    "from ramp_utils.ramp import RampTimeSeq,RampMeasurement\n",
    "from ramp_utils.fitter import IterativeFitter\n",
    "import matplotlib.pyplot as plt\n",
    "import time, sys, pickle, bz2\n",
    "from multiprocessing import Pool\n",
    "\n",
    "%matplotlib notebook"
   ]
  },
  {
   "cell_type": "markdown",
   "metadata": {},
   "source": [
    "#### Create a WFC3 ramp"
   ]
  },
  {
   "cell_type": "code",
   "execution_count": null,
   "metadata": {
    "collapsed": true
   },
   "outputs": [],
   "source": [
    "myramp = RampTimeSeq('HST/WFC3/IR',15,samp_seq='SPARS100')\n"
   ]
  },
  {
   "cell_type": "markdown",
   "metadata": {},
   "source": [
    "#### Choose the \"true\" flux (in e/s), and specify a desired sequence of Cosmic Rays impacts"
   ]
  },
  {
   "cell_type": "code",
   "execution_count": null,
   "metadata": {
    "collapsed": true
   },
   "outputs": [],
   "source": [
    "myflux = 1.\n",
    "\n",
    "#CRdict = {'times':[620., 80.,400.,980],'counts':[300,500,250,290]}\n",
    "CRdict = {'times':[640.],'counts':[100]}\n",
    "#CRdict = None  # For no cosmic rays"
   ]
  },
  {
   "cell_type": "markdown",
   "metadata": {},
   "source": [
    "#### Create a measurement.   "
   ]
  },
  {
   "cell_type": "code",
   "execution_count": null,
   "metadata": {
    "collapsed": true
   },
   "outputs": [],
   "source": [
    "mymeas = RampMeasurement(myramp,myflux,CRdict=CRdict)  #an example for WFC3 ramps"
   ]
  },
  {
   "cell_type": "markdown",
   "metadata": {},
   "source": [
    "#### Plot showing the CR rejection method in calwf3"
   ]
  },
  {
   "cell_type": "code",
   "execution_count": null,
   "metadata": {},
   "outputs": [],
   "source": [
    "plt.style.use('bmh')\n",
    "plt.rcParams['font.family'] = 'Times New Roman'\n",
    "plt.rcParams['font.size'] = 20\n",
    "plt.rcParams['axes.labelsize'] = 20\n",
    "plt.rcParams['axes.labelweight'] = 'normal'\n",
    "plt.rcParams['xtick.labelsize'] = 18\n",
    "plt.rcParams['ytick.labelsize'] = 18\n",
    "plt.rcParams['legend.fontsize'] = 12\n",
    "plt.rcParams['figure.titlesize'] = 18\n",
    "\n",
    "\n",
    "f,ax = plt.subplots(2,2,figsize=(12,6),sharex='col')\n",
    "\n",
    "\n",
    "ax[0,0].scatter(mymeas.RTS.read_times[mymeas.RTS.kept_reads],mymeas.noisy_counts_reads[mymeas.RTS.kept_reads],label='Measured Counts',s=50)\n",
    "\n",
    "ax[0,0].set_ylim(10999,11800)\n",
    "ydw,yup = ax[0,0].get_ylim()\n",
    "\n",
    "if mymeas.CRdict is not None:\n",
    "    cmax = 0.\n",
    "    for t,c in zip(mymeas.CRdict['times'],mymeas.CRdict['counts']):\n",
    "        ax[0,0].plot([t,t],[ydw+50,ydw+50+c],label='CR hit',c='#555555')\n",
    "        if c > cmax:\n",
    "            cmax = c\n",
    "\n",
    "dt = mymeas.RTS.group_times[1:]-mymeas.RTS.group_times[:-1]\n",
    "    \n",
    "linslope = (mymeas.noisy_counts[-1]-mymeas.noisy_counts[0])/(mymeas.RTS.group_times[-1]-mymeas.RTS.group_times[0])\n",
    "linfit = mymeas.noisy_counts[0] + linslope*(mymeas.RTS.group_times-mymeas.RTS.group_times[0])\n",
    "\n",
    "ax[0,0].plot(mymeas.RTS.group_times,linfit,c='orange',label='Initial guess')\n",
    "ax[0,0].legend()\n",
    "\n",
    "ax[1,0].scatter(mymeas.RTS.group_times,linfit-mymeas.noisy_counts,label='Residuals',s=50)\n",
    "\n",
    "if mymeas.CRdict is not None:\n",
    "    cmax = 0.\n",
    "    for t,c in zip(mymeas.CRdict['times'],mymeas.CRdict['counts']):\n",
    "        ax[1,0].plot([t,t],[0.5*c,-0.5*c],label='CR hit',c='#555555')\n",
    "        if c > cmax:\n",
    "            cmax = c\n",
    "\n",
    "            \n",
    "ind_rates = (mymeas.noisy_counts[1:]-mymeas.noisy_counts[:-1])/dt\n",
    "            \n",
    "ax[0,1].scatter(0.5*(mymeas.RTS.read_times[mymeas.RTS.kept_reads][1:]+mymeas.RTS.read_times[mymeas.RTS.kept_reads][:-1]),\n",
    "                ind_rates,\n",
    "                label='Measured Countrate',s=50)\n",
    "\n",
    "ydw,yup = ax[0,1].get_ylim()\n",
    "\n",
    "if mymeas.CRdict is not None:\n",
    "    cmax = 0.\n",
    "    for t,c in zip(mymeas.CRdict['times'],mymeas.CRdict['counts']):\n",
    "        ax[0,1].plot([t,t],[ydw,ydw+c/100],label='CR hit',c='#555555')\n",
    "        if c > cmax:\n",
    "            cmax = c\n",
    "\n",
    "\n",
    "initial_guess = np.mean(ind_rates)\n",
    "ax[0,1].plot(mymeas.RTS.group_times,np.ones_like(mymeas.RTS.group_times)*initial_guess,c='orange',label='Initial guess')\n",
    " \n",
    "    \n",
    "var_signal_per_diff = dt * initial_guess * mymeas.gain\n",
    "stddev = np.sqrt(var_signal_per_diff+2.*np.square(mymeas.RON_e))\n",
    "\n",
    "#ax[1,1].scatter(0.5*(mymeas.RTS.group_times[1:]+mymeas.RTS.group_times[:-1]),\n",
    "#                ind_rates-initial_guess,\n",
    "#                label='Residuals',s=50)\n",
    "ind_electrons = (mymeas.noisy_counts[1:]-mymeas.noisy_counts[:-1])*mymeas.gain\n",
    "electrons_guess = initial_guess*mymeas.gain*dt\n",
    "\n",
    "ax[1,1].scatter(0.5*(mymeas.RTS.group_times[1:]+mymeas.RTS.group_times[:-1]),\n",
    "               (ind_electrons-electrons_guess)/stddev,label='Residuals/$\\sigma$')\n",
    "ax[1,1].axhline(4,color='orange')\n",
    "ax[1,1].axhline(-4,color='orange')\n",
    "ax[1,1].fill_between([-20,1290], [4,4], [-4,-4],color='orange',alpha=0.25)\n",
    "             \n",
    "#ax[1,1].errorbar(0.5*(mymeas.RTS.group_times[1:]+mymeas.RTS.group_times[:-1]),\n",
    "#                ,\n",
    "#                 yerr=4*stddev,\n",
    "#                label='Residuals',fmt='o')\n",
    "\n",
    "ax[1,1].set_xlim(-20,1290)\n",
    "\n",
    "for axxx in ax:\n",
    "    for axx in axxx:\n",
    "        axx.legend()\n",
    "        axx.set_facecolor('#FFFFFF')\n",
    "        axx.set_facecolor('#FFFFFF')\n",
    "\n",
    "ax[1,0].set_xlabel('Time [s]')\n",
    "ax[0,0].set_ylabel('Counts')\n",
    "ax[1,0].set_ylabel('Counts')\n",
    "ax[0,1].set_ylabel(r'Countrate [s$^{-1}$]')\n",
    "ax[1,1].set_ylabel(r'Counts')\n",
    "\n",
    "nsp1  = '   '    \n",
    "nsp2  = '   '    \n",
    "    \n",
    "plt.figtext(0.29,0.9625,nsp1+\"calwf3\"+nsp1, va=\"center\", ha=\"center\", size=18,bbox={'facecolor':'gray', 'edgecolor':'black','alpha':.1, 'pad':4})\n",
    "plt.figtext(0.78,0.9625,nsp2+\"This work\"+nsp2, va=\"center\", ha=\"center\", size=18,bbox={'facecolor':'gray','edgecolor':'black', 'alpha':.1, 'pad':4})\n",
    "\n",
    "plt.tight_layout()\n",
    "plt.subplots_adjust(wspace=.25,hspace=.25,left=.1,top=0.925)\n",
    "\n",
    "\n",
    "f.savefig('/user/gennaro/Functional_work/ISRs/Up_the_ramp_fitting/Figs/calwf3_CR_jump.pdf')"
   ]
  },
  {
   "cell_type": "code",
   "execution_count": null,
   "metadata": {},
   "outputs": [],
   "source": [
    "stddev\n"
   ]
  }
 ],
 "metadata": {
  "kernelspec": {
   "display_name": "Python 3",
   "language": "python",
   "name": "python3"
  },
  "language_info": {
   "codemirror_mode": {
    "name": "ipython",
    "version": 3
   },
   "file_extension": ".py",
   "mimetype": "text/x-python",
   "name": "python",
   "nbconvert_exporter": "python",
   "pygments_lexer": "ipython3",
   "version": "3.5.4"
  }
 },
 "nbformat": 4,
 "nbformat_minor": 2
}
