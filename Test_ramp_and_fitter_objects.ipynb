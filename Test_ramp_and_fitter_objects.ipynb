{
 "cells": [
  {
   "cell_type": "markdown",
   "metadata": {
    "collapsed": true
   },
   "source": [
    "## Notebook to test that the ramp and fitter objects work as expected"
   ]
  },
  {
   "cell_type": "code",
   "execution_count": null,
   "metadata": {},
   "outputs": [],
   "source": [
    "import pandas as pd\n",
    "import numpy as np\n",
    "from ramp_utils.ramp import RampTimeSeq,RampMeasurement\n",
    "from ramp_utils.fitter import IterativeFitter\n",
    "import matplotlib.pyplot as plt\n",
    "import time, sys, pickle, bz2\n",
    "from multiprocessing import Pool\n",
    "\n",
    "%matplotlib notebook"
   ]
  },
  {
   "cell_type": "markdown",
   "metadata": {},
   "source": [
    "### Test the ramp object itself"
   ]
  },
  {
   "cell_type": "markdown",
   "metadata": {},
   "source": [
    "A Generic ramp with a user-specified time sequence"
   ]
  },
  {
   "cell_type": "code",
   "execution_count": null,
   "metadata": {},
   "outputs": [],
   "source": [
    "dt,nf,ns,ng = 10.8,8,12,10\n",
    "myramp = RampTimeSeq('GENERIC',ng,nframes=nf, nskips=ns, read_times=dt*np.arange(ng*(nf+ns)))\n",
    "myramp.test_plot()"
   ]
  },
  {
   "cell_type": "markdown",
   "metadata": {},
   "source": [
    "A WFC3 ramp with 15 samples and a SPARS25 sequence "
   ]
  },
  {
   "cell_type": "code",
   "execution_count": null,
   "metadata": {},
   "outputs": [],
   "source": [
    "myramp = RampTimeSeq('HST/WFC3/IR',15,samp_seq='SPARS25')\n",
    "myramp.test_plot()"
   ]
  },
  {
   "cell_type": "markdown",
   "metadata": {},
   "source": [
    "### Test the fitter on a single ramp"
   ]
  },
  {
   "cell_type": "markdown",
   "metadata": {},
   "source": [
    "#### Choose the type of ramp"
   ]
  },
  {
   "cell_type": "code",
   "execution_count": null,
   "metadata": {
    "collapsed": true
   },
   "outputs": [],
   "source": [
    "#dt,nf,ns,ng = 10,2,10,10\n",
    "#myramp = RampTimeSeq('GENERIC',ng,nframes=nf, nskips=ns, read_times=dt*np.arange(ng*(nf+ns)))  #  a generic ramp with the above sequence\n",
    "\n",
    "myramp = RampTimeSeq('HST/WFC3/IR',15,samp_seq='SPARS100') # a WFC3 ramp with 15 samples and a SPARS100 sequence "
   ]
  },
  {
   "cell_type": "markdown",
   "metadata": {},
   "source": [
    "#### Choose the \"true\" flux (in e/s), and specify a desired sequence of Cosmic Rays impacts"
   ]
  },
  {
   "cell_type": "code",
   "execution_count": null,
   "metadata": {
    "collapsed": true
   },
   "outputs": [],
   "source": [
    "myflux = 64\n",
    "\n",
    "#CRdict = {'times':[620., 80.,400.,980],'counts':[300,500,250,290]}\n",
    "CRdict = None  # For no cosmic rays"
   ]
  },
  {
   "cell_type": "markdown",
   "metadata": {},
   "source": [
    "#### Create a measurement.   \n",
    "If the selected ramp is of **GENERIC** type, you need to specify gain, RON, KTC, bias and full_well."
   ]
  },
  {
   "cell_type": "code",
   "execution_count": null,
   "metadata": {
    "collapsed": true
   },
   "outputs": [],
   "source": [
    "#mymeas = RampMeasurement(myramp,myflux,gain=1,RON=20,KTC=50,bias=10000,full_well=100000,CRdict=CRdict)   # an example of generic case use\n",
    "mymeas = RampMeasurement(myramp,myflux,CRdict=CRdict)  #an example for WFC3 ramps"
   ]
  },
  {
   "cell_type": "markdown",
   "metadata": {},
   "source": [
    "#### Run the fitter and print and display some diagnostics"
   ]
  },
  {
   "cell_type": "code",
   "execution_count": null,
   "metadata": {
    "scrolled": false
   },
   "outputs": [],
   "source": [
    "myramp.test_plot()\n",
    "\n",
    "mymeas.test_plot()\n",
    "\n",
    "myfitter = IterativeFitter(mymeas,fitpars={'one_iteration_method':'Nelder-Mead'})\n",
    "err, count, gi, crlcount = myfitter.perform_fit(CRthr=4)\n",
    "myfitter.test_plot()\n",
    "\n",
    "print('Error message',err)\n",
    "print('Iterations',count)\n",
    "print('fitted flux (e/s)', myfitter.mean_electron_rate)\n",
    "print('real flux (e/s)',myfitter.RM.flux)\n",
    "print(gi)\n",
    "print('Iterations for CR rej',crlcount)\n"
   ]
  },
  {
   "cell_type": "markdown",
   "metadata": {},
   "source": [
    "### Goodness of fit measures"
   ]
  },
  {
   "cell_type": "code",
   "execution_count": null,
   "metadata": {},
   "outputs": [],
   "source": [
    "myfitter.goodness_of_fit(mode='G-test')\n",
    "print(myfitter.gof_stat,myfitter.gof_pval)\n",
    "\n",
    "myfitter.goodness_of_fit(mode='Pearson-chi-sq')\n",
    "print(myfitter.gof_stat,myfitter.gof_pval)\n",
    "\n",
    "myfitter.goodness_of_fit(mode='Squared-deviations-nocov')\n",
    "print(myfitter.gof_stat,myfitter.gof_pval)\n",
    "\n",
    "myfitter.goodness_of_fit(mode='Squared-deviations')\n",
    "print(myfitter.gof_stat,myfitter.gof_pval)\n"
   ]
  }
 ],
 "metadata": {
  "kernelspec": {
   "display_name": "Python 3",
   "language": "python",
   "name": "python3"
  },
  "language_info": {
   "codemirror_mode": {
    "name": "ipython",
    "version": 3
   },
   "file_extension": ".py",
   "mimetype": "text/x-python",
   "name": "python",
   "nbconvert_exporter": "python",
   "pygments_lexer": "ipython3",
   "version": "3.5.4"
  }
 },
 "nbformat": 4,
 "nbformat_minor": 2
}
