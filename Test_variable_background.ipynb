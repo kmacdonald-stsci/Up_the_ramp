{
 "cells": [
  {
   "cell_type": "markdown",
   "metadata": {},
   "source": [
    "## Notebook to test the performance of the IterativeFitter class in case a variable background is present on top of the signal"
   ]
  },
  {
   "cell_type": "code",
   "execution_count": null,
   "metadata": {
    "collapsed": true
   },
   "outputs": [],
   "source": [
    "import pandas as pd\n",
    "import numpy as np\n",
    "from ramp_utils.ramp import RampTimeSeq,RampMeasurement\n",
    "from ramp_utils.fitter import IterativeFitter\n",
    "import matplotlib.pyplot as plt\n",
    "import time, sys, pickle, bz2\n",
    "from multiprocessing import Pool\n",
    "from scipy.interpolate import interp1d\n",
    "import copy\n",
    "\n",
    "%matplotlib notebook"
   ]
  },
  {
   "cell_type": "markdown",
   "metadata": {},
   "source": [
    "### First define a ramp time sequence and a measurement"
   ]
  },
  {
   "cell_type": "code",
   "execution_count": null,
   "metadata": {
    "collapsed": true
   },
   "outputs": [],
   "source": [
    "myramp = RampTimeSeq('HST/WFC3/IR',15,samp_seq='SPARS100') \n",
    "myflux = 1.\n",
    "CRdict = None  # For no cosmic rays\n",
    "mymeas = RampMeasurement(myramp,myflux,CRdict=CRdict)  #an example for WFC3 ramps"
   ]
  },
  {
   "cell_type": "markdown",
   "metadata": {},
   "source": [
    "### Run the IterativeFitter on it (no extra background added)"
   ]
  },
  {
   "cell_type": "code",
   "execution_count": null,
   "metadata": {
    "collapsed": true,
    "scrolled": false
   },
   "outputs": [],
   "source": [
    "myramp.test_plot()\n",
    "\n",
    "mymeas.test_plot()\n",
    "\n",
    "myfitter = IterativeFitter(mymeas)\n",
    "err, count, gi, crlcount = myfitter.perform_fit(CRthr=4)\n",
    "myfitter.test_plot()\n",
    "myfitter.goodness_of_fit(mode='Squared-deviations')\n",
    "\n",
    "print('Error message',err)\n",
    "print('Iterations',count)\n",
    "print('fitted flux (e/s)', myfitter.mean_electron_rate)\n",
    "print('real flux (e/s)',myfitter.RM.flux)\n",
    "print(gi)\n",
    "print('Iterations for CR rej',crlcount)\n",
    "print('GOF-stat,GOF-p',myfitter.gof_stat,myfitter.gof_pval)"
   ]
  },
  {
   "cell_type": "markdown",
   "metadata": {},
   "source": [
    "### Define a variable background within the ramp's time interval. Scale it by a fixed average amount (in terms of electrons/s)"
   ]
  },
  {
   "cell_type": "code",
   "execution_count": null,
   "metadata": {
    "collapsed": true
   },
   "outputs": [],
   "source": [
    "bg_times      = np.linspace(0,1400,10)\n",
    "\n",
    "#bg_countrates = np.array([1.1,1.5,2,6,3,2.5,1.5])\n",
    "#bg_countrates = np.array([1.1,1.5,2,3.1,3,2.5,1.5])\n",
    "#bg_countrates = np.array([1.,1.5,2,2.5,3,3.5,4])\n",
    "bg_electron_rate = np.array([1.,1.5,1.6,1.4,1.7,2.2,2.4])\n",
    "bg_electron_rate = np.array([1.,1.2,1.4,1.3,1.7,2.,2.2,2.4,2.0,1.5])\n",
    "mean_bg_electron_rate = 1.5\n",
    "\n",
    "bg_int = interp1d(bg_times,bg_electron_rate,'quadratic')\n",
    "varbg = bg_int(myramp.read_times)\n",
    "\n",
    "dt = myramp.read_times[-1]-myramp.read_times[0]\n",
    "t_avg = np.trapz(varbg,myramp.read_times) / dt\n",
    "varbg = varbg/t_avg * mean_bg_electron_rate\n",
    "a_rms = np.sqrt(np.trapz(np.square(varbg-mean_bg_electron_rate),myramp.read_times)/dt)\n",
    "\n",
    "f = plt.figure()\n",
    "ax = f.add_subplot(111)\n",
    "ax.set_title('Background rate (e/s), mean = {:7.4f}, rms ={:7.4f}'.format(mean_bg_electron_rate,a_rms))\n",
    "ax.set_xlabel('Time (s)')\n",
    "ax.set_ylabel('Electrons/s')\n",
    "ax.plot(myramp.read_times,varbg);"
   ]
  },
  {
   "cell_type": "markdown",
   "metadata": {},
   "source": [
    "### Generate variable background cumulated electrons from the interpolated countrate"
   ]
  },
  {
   "cell_type": "code",
   "execution_count": null,
   "metadata": {
    "collapsed": true
   },
   "outputs": [],
   "source": [
    "bg_electrons=[0]\n",
    "bg_electrons.extend([np.random.poisson(lam=vb*dt) for vb,dt in zip(0.5*(varbg[1:]+varbg[:-1]),mymeas.RTS.read_times[1:]-mymeas.RTS.read_times[:-1]) ])\n",
    "bg_electrons = np.asarray(bg_electrons)\n",
    "print(bg_electrons)\n",
    "print(np.cumsum(bg_electrons))"
   ]
  },
  {
   "cell_type": "markdown",
   "metadata": {},
   "source": [
    "### Copy the previous measurement and add the variable backgoround"
   ]
  },
  {
   "cell_type": "code",
   "execution_count": null,
   "metadata": {
    "collapsed": true
   },
   "outputs": [],
   "source": [
    "mymeas2 = copy.copy(mymeas)\n",
    "mymeas2.add_background(np.cumsum(bg_electrons))"
   ]
  },
  {
   "cell_type": "markdown",
   "metadata": {},
   "source": [
    "### Run fitter on the ramp with extra background"
   ]
  },
  {
   "cell_type": "code",
   "execution_count": null,
   "metadata": {
    "collapsed": true,
    "scrolled": false
   },
   "outputs": [],
   "source": [
    "myramp.test_plot()\n",
    "\n",
    "mymeas2.test_plot()\n",
    "\n",
    "myfitter2 = IterativeFitter(mymeas2)\n",
    "err2, count2, gi2, crlcount2 = myfitter2.perform_fit(CRthr=4)\n",
    "myfitter2.test_plot()\n",
    "myfitter2.goodness_of_fit(mode='Pearson-chi-sq')\n",
    "\n",
    "print('Error message',err2)\n",
    "print('Iterations',count2)\n",
    "print('fitted flux (e-/s)', myfitter2.mean_electron_rate)\n",
    "print('real flux (e-/s)',myfitter2.RM.flux)\n",
    "print(gi2)\n",
    "print('Iterations for CR rej',crlcount2)\n",
    "print('GOF-stat,GOF-p',myfitter2.gof_stat,myfitter2.gof_pval)"
   ]
  }
 ],
 "metadata": {
  "kernelspec": {
   "display_name": "Python 3",
   "language": "python",
   "name": "python3"
  },
  "language_info": {
   "codemirror_mode": {
    "name": "ipython",
    "version": 3
   },
   "file_extension": ".py",
   "mimetype": "text/x-python",
   "name": "python",
   "nbconvert_exporter": "python",
   "pygments_lexer": "ipython3",
   "version": "3.5.4"
  }
 },
 "nbformat": 4,
 "nbformat_minor": 2
}
