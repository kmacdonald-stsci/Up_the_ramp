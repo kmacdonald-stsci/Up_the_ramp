{
 "cells": [
  {
   "cell_type": "markdown",
   "metadata": {
    "collapsed": true
   },
   "source": [
    "## Notebook to format the results of the WFC3 vs IterativeFitter comparison into a latex table"
   ]
  },
  {
   "cell_type": "code",
   "execution_count": 1,
   "metadata": {
    "collapsed": true
   },
   "outputs": [],
   "source": [
    "import pandas as pd\n",
    "import numpy as np\n",
    "import pickle,bz2"
   ]
  },
  {
   "cell_type": "code",
   "execution_count": 2,
   "metadata": {
    "collapsed": true
   },
   "outputs": [],
   "source": [
    "tname_base = 'STEP200_NSAMP13_SNR'\n",
    "tname_suff = ['3','5','10','50','160','250','5_CR6','10_CR6','50_CR6','160_CR6']"
   ]
  },
  {
   "cell_type": "code",
   "execution_count": 3,
   "metadata": {},
   "outputs": [],
   "source": [
    "dict_all = {}\n",
    "\n",
    "for suff in tname_suff:\n",
    "    with bz2.BZ2File('/user/gennaro/Functional_work/WFC3/ISRs/Up_the_ramp_fitting/Table_data/Test_'+tname_base+suff+'_tabledata_0.pbz2', 'rb') as f:\n",
    "        dict_all[suff] = pickle.load(f)\n"
   ]
  },
  {
   "cell_type": "markdown",
   "metadata": {},
   "source": [
    "#### Print all the exisitng keys in the individual dictionaries"
   ]
  },
  {
   "cell_type": "code",
   "execution_count": 4,
   "metadata": {},
   "outputs": [
    {
     "data": {
      "text/plain": [
       "['mean_signal',\n",
       " 'md3_C3',\n",
       " 'eff_RON',\n",
       " 'poi_err',\n",
       " 'mn3',\n",
       " 'mn_C3',\n",
       " 'st3',\n",
       " 'st_C3',\n",
       " 'md_C3',\n",
       " 'exptime',\n",
       " 'mode3_C3',\n",
       " 'CR_det',\n",
       " 'FP_CR_C3',\n",
       " 'eff_qerr',\n",
       " 'tot_noise',\n",
       " 'mode_C3',\n",
       " 'FN_CR_C3',\n",
       " 'mode2_C3',\n",
       " 'mode2',\n",
       " 'myflux',\n",
       " 'md',\n",
       " 'mode3',\n",
       " 'md3',\n",
       " 'mn',\n",
       " 'st2_C3',\n",
       " 'mn2_C3',\n",
       " 'md2',\n",
       " 'st3_C3',\n",
       " 'FN_CR',\n",
       " 'mode',\n",
       " 'True_CR_number',\n",
       " 'mn2',\n",
       " 'noisy_counts_err',\n",
       " 'st2',\n",
       " 'act_poi_err',\n",
       " 'md2_C3',\n",
       " 'CR_det_C3',\n",
       " 'st',\n",
       " 'FP_CR',\n",
       " 'mn3_C3']"
      ]
     },
     "execution_count": 4,
     "metadata": {},
     "output_type": "execute_result"
    }
   ],
   "source": [
    "list(dict_all[list(dict_all.keys())[0]].keys())"
   ]
  },
  {
   "cell_type": "code",
   "execution_count": 5,
   "metadata": {
    "collapsed": true
   },
   "outputs": [],
   "source": [
    "case_sel = ['3','5','10','50','160','250']\n",
    "keys_sel = ['myflux', 'True_CR_number', 'CR_det', 'CR_det_C3','FP_CR','FP_CR_C3','FN_CR','FN_CR_C3','mn','st', 'mn_C3','st_C3', 'mn2','st2', 'mn2_C3','st2_C3', 'mn3','st3', 'mn3_C3','st3_C3']"
   ]
  },
  {
   "cell_type": "code",
   "execution_count": 6,
   "metadata": {},
   "outputs": [
    {
     "name": "stdout",
     "output_type": "stream",
     "text": [
      "\\multirow{2}{*}{  0.009} &\\multirow{2}{*}{ 4874} &This work            & 4680 &  297 &  194 &   0.030 &   0.033 &   0.017 &   0.015 &   0.051 &   0.042 \\\\\n",
      "                                               & &\\textbf{calwf3}      & 2874 &    4 & 2000 &   0.089 &   0.282 &   0.009 &   0.013 &   0.216 &   0.422 \\\\\n",
      "\\hline\n",
      " \n",
      "\\multirow{2}{*}{  0.025} &\\multirow{2}{*}{ 4959} &This work            & 4739 &  106 &  220 &   0.039 &   0.034 &   0.026 &   0.015 &   0.059 &   0.044 \\\\\n",
      "                                               & &\\textbf{calwf3}      & 2852 &    5 & 2107 &   0.110 &   0.256 &   0.025 &   0.014 &   0.239 &   0.372 \\\\\n",
      "\\hline\n",
      " \n",
      "\\multirow{2}{*}{  0.100} &\\multirow{2}{*}{ 5060} &This work            & 4877 &   41 &  183 &   0.094 &   0.035 &   0.089 &   0.022 &   0.102 &   0.046 \\\\\n",
      "                                               & &\\textbf{calwf3}      & 3001 &    6 & 2059 &   0.185 &   0.302 &   0.100 &   0.017 &   0.316 &   0.448 \\\\\n",
      "\\hline\n",
      " \n",
      "\\multirow{2}{*}{  2.500} &\\multirow{2}{*}{ 4871} &This work            & 4610 &   42 &  261 &   2.498 &   0.066 &   2.496 &   0.058 &   2.501 &   0.078 \\\\\n",
      "                                               & &\\textbf{calwf3}      & 2805 &    4 & 2066 &   2.587 &   0.281 &   2.500 &   0.053 &   2.722 &   0.409 \\\\\n",
      "\\hline\n",
      " \n",
      "\\multirow{2}{*}{ 25.000} &\\multirow{2}{*}{ 4999} &This work            & 4361 &   30 &  638 &  25.012 &   0.189 &  24.998 &   0.159 &  25.034 &   0.225 \\\\\n",
      "                                               & &\\textbf{calwf3}      & 2619 &    5 & 2380 &  25.123 &   0.397 &  24.999 &   0.160 &  25.318 &   0.551 \\\\\n",
      "\\hline\n",
      " \n",
      "\\multirow{2}{*}{ 62.500} &\\multirow{2}{*}{ 4929} &This work            & 3972 &   25 &  957 &  62.531 &   0.291 &  62.506 &   0.254 &  62.570 &   0.338 \\\\\n",
      "                                               & &\\textbf{calwf3}      & 2227 &    2 & 2702 &  62.676 &   0.498 &  62.507 &   0.254 &  62.942 &   0.647 \\\\\n",
      "\\hline\n",
      " \n"
     ]
    }
   ],
   "source": [
    "for c in case_sel:\n",
    "    fullstr1 ='\\multirow{{2}}{{*}}{{{:7.3f}}}'.format(dict_all[c][keys_sel[0]]) + ' &'\n",
    "    fullstr1 +='\\multirow{{2}}{{*}}{{{:5d}}}'.format(dict_all[c][keys_sel[1]]) + ' &'\n",
    "    \n",
    "    fullstr2 = '{:>46} & &'.format(' ')\n",
    "    \n",
    "    fullstr1 += '{:20} &'.format('This work')\n",
    "    fullstr2 += '{:20} &'.format('\\\\textbf{calwf3}')\n",
    "    for k in keys_sel[2:]:\n",
    "        if '_C3' in k:\n",
    "            if 'CR' in k:\n",
    "                fullstr2 += '{:5d}'.format(dict_all[c][k]) + ' &'\n",
    "            else:\n",
    "                fullstr2 += '{:8.3f}'.format(dict_all[c][k]) + ' &'\n",
    "        else:\n",
    "            if 'CR' in k:\n",
    "                fullstr1 += '{:5d}'.format(dict_all[c][k]) + ' &'\n",
    "            else:\n",
    "                fullstr1 += '{:8.3f}'.format(dict_all[c][k]) + ' &'\n",
    "\n",
    "    print(fullstr1[:-1]+ '\\\\\\\\') \n",
    "    print(fullstr2[:-1]+ '\\\\\\\\') \n",
    "    print('\\hline')\n",
    "    print(' ')"
   ]
  },
  {
   "cell_type": "code",
   "execution_count": 7,
   "metadata": {},
   "outputs": [],
   "source": [
    "case_sel = ['5','10','50','160']\n",
    "keys_sel = ['myflux', 'True_CR_number', 'CR_det', 'CR_det_C3','FP_CR','FP_CR_C3','FN_CR','FN_CR_C3','mn','st', 'mn_C3','st_C3', 'mn2','st2', 'mn2_C3','st2_C3', 'mn3','st3', 'mn3_C3','st3_C3']"
   ]
  },
  {
   "cell_type": "code",
   "execution_count": 8,
   "metadata": {},
   "outputs": [
    {
     "name": "stdout",
     "output_type": "stream",
     "text": [
      "\\multirow{3}{*}{ 0.025} &\\multirow{3}{*}{ 4959} & This work(CRthr=4)    & 4739 &  106 &  220 &   0.039 &   0.034 &   0.026 &   0.015 &   0.059 &   0.044 \\\\\n",
      "                                              & & This work(CRthr=6)    & 4625 &    0 &  334 &   0.053 &   0.044 &   0.037 &   0.023 &   0.079 &   0.055 \\\\\n",
      "                                              & & \\textbf{calwf3}       & 2852 &    5 & 2107 &   0.110 &   0.256 &   0.025 &   0.014 &   0.239 &   0.372 \\\\\n",
      "\\hline\n",
      " \n",
      "\\multirow{3}{*}{ 0.100} &\\multirow{3}{*}{ 5060} & This work(CRthr=4)    & 4877 &   41 &  183 &   0.094 &   0.035 &   0.089 &   0.022 &   0.102 &   0.046 \\\\\n",
      "                                              & & This work(CRthr=6)    & 4788 &    0 &  272 &   0.100 &   0.040 &   0.094 &   0.026 &   0.110 &   0.052 \\\\\n",
      "                                              & & \\textbf{calwf3}       & 3001 &    6 & 2059 &   0.185 &   0.302 &   0.100 &   0.017 &   0.316 &   0.448 \\\\\n",
      "\\hline\n",
      " \n",
      "\\multirow{3}{*}{ 2.500} &\\multirow{3}{*}{ 4871} & This work(CRthr=4)    & 4610 &   42 &  261 &   2.498 &   0.066 &   2.496 &   0.058 &   2.501 &   0.078 \\\\\n",
      "                                              & & This work(CRthr=6)    & 4482 &    3 &  389 &   2.501 &   0.069 &   2.497 &   0.053 &   2.507 &   0.089 \\\\\n",
      "                                              & & \\textbf{calwf3}       & 2805 &    4 & 2066 &   2.587 &   0.281 &   2.500 &   0.053 &   2.722 &   0.409 \\\\\n",
      "\\hline\n",
      " \n",
      "\\multirow{3}{*}{25.000} &\\multirow{3}{*}{ 4999} & This work(CRthr=4)    & 4361 &   30 &  638 &  25.012 &   0.189 &  24.998 &   0.159 &  25.034 &   0.225 \\\\\n",
      "                                              & & This work(CRthr=6)    & 4052 &    6 &  947 &  25.025 &   0.201 &  24.999 &   0.159 &  25.065 &   0.248 \\\\\n",
      "                                              & & \\textbf{calwf3}       & 2619 &    5 & 2380 &  25.123 &   0.397 &  24.999 &   0.160 &  25.318 &   0.551 \\\\\n",
      "\\hline\n",
      " \n"
     ]
    }
   ],
   "source": [
    "for c in case_sel:\n",
    "    fullstr1 ='\\multirow{{3}}{{*}}{{{:6.3f}}}'.format(dict_all[c][keys_sel[0]]) + ' &'\n",
    "    fullstr1 +='\\multirow{{3}}{{*}}{{{:5d}}}'.format(dict_all[c][keys_sel[1]]) + ' &'\n",
    "    \n",
    "    fullstr2 = '{:>46}& &'.format(' ')\n",
    "    fullstr3 = '{:>46}& &'.format(' ')\n",
    "    fullstr1 += '{:22} &'.format(' This work(CRthr=4)')\n",
    "    fullstr2 += '{:22} &'.format(' This work(CRthr=6)')\n",
    "    fullstr3 += '{:22} &'.format(' \\\\textbf{calwf3}')\n",
    "\n",
    "    for k in keys_sel[2:]:\n",
    "        if '_C3' in k:\n",
    "            if 'CR' in k:\n",
    "                fullstr3 += '{:5d}'.format(dict_all[c][k]) + ' &'\n",
    "            else:\n",
    "                fullstr3 += '{:8.3f}'.format(dict_all[c][k]) + ' &'\n",
    "        else:\n",
    "            if 'CR' in k:\n",
    "                fullstr1 += '{:5d}'.format(dict_all[c][k]) + ' &'\n",
    "                fullstr2 += '{:5d}'.format(dict_all[c+'_CR6'][k]) + ' &'\n",
    "            else:\n",
    "                fullstr1 += '{:8.3f}'.format(dict_all[c][k]) + ' &'\n",
    "                fullstr2 += '{:8.3f}'.format(dict_all[c+'_CR6'][k]) + ' &'\n",
    "\n",
    "    print(fullstr1[:-1]+ '\\\\\\\\') \n",
    "    print(fullstr2[:-1]+ '\\\\\\\\') \n",
    "    print(fullstr3[:-1]+ '\\\\\\\\') \n",
    "    print('\\hline')\n",
    "\n",
    "    print(' ')"
   ]
  }
 ],
 "metadata": {
  "kernelspec": {
   "display_name": "Python 3",
   "language": "python",
   "name": "python3"
  },
  "language_info": {
   "codemirror_mode": {
    "name": "ipython",
    "version": 3
   },
   "file_extension": ".py",
   "mimetype": "text/x-python",
   "name": "python",
   "nbconvert_exporter": "python",
   "pygments_lexer": "ipython3",
   "version": "3.5.4"
  }
 },
 "nbformat": 4,
 "nbformat_minor": 2
}
