{
 "cells": [
  {
   "cell_type": "markdown",
   "metadata": {
    "nbpresent": {
     "id": "0d33cc02-bd22-422e-974b-893db4bc8a2e"
    }
   },
   "source": [
    "# Introduction\n",
    "\n",
    "\n",
    "WFC3/IR filters F105W and F110W are sensitive to Helium I emission from the Earth's atmosphere. This typically affects  the ramps taken closest in time to Earth occultation, either in the last few ramps at the end of an orbit (entering occultation) or in the first few ramps at the beginning of an orbit (exiting occultation). The emission produces an flat background signal which is added to the sky in a subset of the IR ramps, and this non-linear background may compromise the ramp fitting step performed by calwf3, which is designed to flag and remove cosmic rays and saturated reads. The calibrated FLT data products will be lower signal-to-noise than expected, with a strongly non-gaussian background. \n",
    "\n",
    "This notebook demonstrates how to diagnose and correct for a non-linear background in IR filter F105W and F110W. It was based on python code to 'Flatten' the IR ramps, provided in WFC3 ISR 2016-16: [Reprocessing WFC3/IR Exposures Affected by Time-Variable Backgrounds](http://www.stsci.edu/hst/wfc3/documents/ISRs/WFC3-2016-16.pdf).  \n",
    "\n",
    "\n",
    ">The notebook is organized as follows:\n",
    ">\n",
    ">1. Download the data from MAST and reference files from CRDS\n",
    ">2. Diagnose which FLT datasets may have poor ramp fitting\n",
    ">3. Recalibrate the RAW files with ramp-fitting (CRCORR) turned off\n",
    ">4. Subtract the median background per read in the IMA file\n",
    ">5. Resume calwf3 on corrected IMA file, with ramp-fitting turned on \n",
    "\n",
    "While non-linear background also impacts the IR grisms, the method described in this notebook should not be used to correct G102 and G141 observations, which are affected by a combination of Helium I and Zodiacal background, the later of which varies spatially over the detector. More detail on correcting grism data is provided in WFC3 ISR 2017-05: [Variable He I emission in grism data](http://www.stsci.edu/hst/wfc3/documents/ISRs/WFC3-2017-05.pdf).\n"
   ]
  },
  {
   "cell_type": "markdown",
   "metadata": {},
   "source": [
    "# Setup\n",
    "\n",
    "This notebook assumes you have installed a recent version of [AstroConda](https://astroconda.readthedocs.io) . \n",
    "\n",
    "Two additional astropy packages must be installed in your conda environment before downloading the data. To do this, type the following command in the terminal before starting the notebook:\n",
    "\n",
    ">conda install -c astropy astroquery ccdproc"
   ]
  },
  {
   "cell_type": "code",
   "execution_count": null,
   "metadata": {
    "nbpresent": {
     "id": "6c8b2858-62fe-40bd-a114-8257661e0b0b"
    }
   },
   "outputs": [],
   "source": [
    "#from ccdproc import ImageFileCollection\n",
    "from astroquery.mast import Observations\n",
    "from astropy.io import fits\n",
    "\n",
    "import matplotlib.pyplot as plt\n",
    "import numpy as np\n",
    "import wfc3tools\n",
    "import os \n",
    "import glob \n",
    "import shutil"
   ]
  },
  {
   "cell_type": "markdown",
   "metadata": {
    "nbpresent": {
     "id": "71a61091-6c4e-4567-880e-8d9908e4dfa4"
    }
   },
   "source": [
    "# Data\n",
    "\n",
    "The following commands query MAST for the necessery products and then download them to the current directory.\n",
    "\n",
    "Here we obtain WFC3/IR observations from CANDELs program [12242](http://www.stsci.edu/cgi-bin/get-proposal-info?id=12442&observatory=HST), Visit BF. The data products requested are the ASN, RAW, IMA and FLT files."
   ]
  },
  {
   "cell_type": "code",
   "execution_count": null,
   "metadata": {},
   "outputs": [],
   "source": [
    "data_list = Observations.query_criteria(obs_id='IBOHBF*')\n",
    "Observations.download_products(data_list['obsid'],mrp_only=False,download_dir='./data',\n",
    "                               productSubGroupDescription=['ASN','RAW','IMA','FLT'])\n",
    "\n",
    "science_files = glob.glob('data/mastDownload/HST/*/*fits')\n",
    "\n",
    "for im in science_files:\n",
    "    root = im.split('/')[-1]\n",
    "    os.rename(im,'./'+root)\n",
    "shutil.rmtree('data/')"
   ]
  },
  {
   "cell_type": "markdown",
   "metadata": {},
   "source": [
    "# Observation Summary \n",
    "\n",
    "The WFC3 association for visit BF 'ibohbf040_asn.fits' comprises a single visit over 3 orbits with six consecutive exposures in F105W, dithered by a small fraction of the field of view. Each orbit consists of two back-to-back 1600 sec exposures, followed by the Earth occultation. "
   ]
  },
  {
   "cell_type": "code",
   "execution_count": null,
   "metadata": {},
   "outputs": [],
   "source": [
    "collec = ImageFileCollection('./',\n",
    "                             keywords=[\"asn_id\",\"targname\",\"filter\",\"samp_seq\",\"nsamp\",\"exptime\",\n",
    "                             \"postarg1\",\"postarg2\",\"date-obs\",\"time-obs\",], glob_include=\"*flt.fits\", ext=0)\n",
    "out_table = collec.summary\n",
    "out_table"
   ]
  },
  {
   "cell_type": "markdown",
   "metadata": {},
   "source": [
    "# Identify Exposures with Non-linear Background\n",
    "\n",
    "In this notebook, we will focus only on the first two exposures in the visit, which make up a single orbit. The first exposure ibohbfb7q is not impacted, and the second exposure ibohbfb9q suffers from additional background at the end of the exposure. \n",
    "\n",
    "While additional exposures in this visit were also impacted by non-linear background, only the first two are discussed in this notebook for brevity. \n",
    "\n",
    "There are several ways to diagnose a poor ramp fit in the calibrated data products:\n",
    "\n",
    "    1.) Display the FLT images and look for unusually large noise\n",
    "    2.) Plot a histogram of the sky background in the FLT and look for a non-gaussian distribution  \n",
    "    3.) Plot the median background of each ramp in the IMA file and look for non-linearity"
   ]
  },
  {
   "cell_type": "markdown",
   "metadata": {},
   "source": [
    "# Display the Images\n",
    "\n",
    "An FLT exposure with a poor ramp fit will looks much noisier than a similar FLT exposure with a good ramp fit. "
   ]
  },
  {
   "cell_type": "code",
   "execution_count": null,
   "metadata": {},
   "outputs": [],
   "source": [
    "flt1=fits.getdata('ibohbfb7q_flt.fits',ext=1)\n",
    "flt2=fits.getdata('ibohbfb9q_flt.fits',ext=1)\n",
    "\n",
    "fig=plt.figure(figsize=(20,8))\n",
    "ax1=fig.add_subplot(1,2,1)\n",
    "ax2=fig.add_subplot(1,2,2)\n",
    "\n",
    "ax1.imshow(flt1, vmin=0.25,vmax=1.25,cmap='Greys_r',origin='lower')\n",
    "ax2.imshow(flt2, vmin=1.25,vmax=2.25,cmap='Greys_r',origin='lower')\n",
    "\n",
    "ax1.set_title('ibohbfb7q (Linear Bkg)',fontsize=20)\n",
    "ax2.set_title('ibohbfb9q (Non-linear Bkg)',fontsize=20)"
   ]
  },
  {
   "cell_type": "markdown",
   "metadata": {},
   "source": [
    "# Plot a Histogram of the Background\n",
    "\n",
    "The impacted FLT exposure will typically have a non-gaussian background, often with a double peak and a large sigma."
   ]
  },
  {
   "cell_type": "code",
   "execution_count": null,
   "metadata": {},
   "outputs": [],
   "source": [
    "flt1f = flt1.flatten()\n",
    "flt2f = flt2.flatten()\n",
    "\n",
    "fig=plt.figure(figsize=(20,5))\n",
    "ax1=fig.add_subplot(1,2,1)\n",
    "ax2=fig.add_subplot(1,2,2)\n",
    "\n",
    "n, bins, patches = ax1.hist(flt1f,bins=200,range=(0,1))\n",
    "n, bins, patches = ax2.hist(flt2f,bins=200,range=(1,2))\n",
    "\n",
    "ax1.set_title('ibohbfb7q (Linear Bkg)',fontsize=15)\n",
    "ax2.set_title('ibohbfb9q (Non-linear Bkg)',fontsize=15)"
   ]
  },
  {
   "cell_type": "markdown",
   "metadata": {},
   "source": [
    "# Inspect the IR ramps\n",
    "Using the task 'pstat' in wfc3tools, we compute statistics 'up the stack' of each IR MultiAccum image. Because the target is mostly 'blank' sky, the midpoint of each ramp is a good representation of the total background."
   ]
  },
  {
   "cell_type": "markdown",
   "metadata": {},
   "source": [
    "### ibohbfb7q \n",
    "In the first exposure, the median signal accumulates linearly over the exposure. "
   ]
  },
  {
   "cell_type": "code",
   "execution_count": null,
   "metadata": {},
   "outputs": [],
   "source": [
    "time1,counts1=wfc3tools.pstat('ibohbfb7q_ima.fits',stat='midpt',units='counts')"
   ]
  },
  {
   "cell_type": "markdown",
   "metadata": {},
   "source": [
    "The median count rate is ~flat at ~0.5 electrons/sec, which is primarily zodiacal light. A small amount of excess signal is seen in the first few ramps, but this is unlikely to impact calwf3's ramp fitting step. "
   ]
  },
  {
   "cell_type": "code",
   "execution_count": null,
   "metadata": {},
   "outputs": [],
   "source": [
    "time1,rate1=wfc3tools.pstat('ibohbfb7q_ima.fits',stat='midpt',units='rate')\n",
    "plt.ylim(0.3,0.7)"
   ]
  },
  {
   "cell_type": "markdown",
   "metadata": {},
   "source": [
    "###  ibohbfb9q \n",
    "In the second exposure, the median signal is non-linear over the exposure. "
   ]
  },
  {
   "cell_type": "code",
   "execution_count": null,
   "metadata": {},
   "outputs": [],
   "source": [
    "time2,counts2=wfc3tools.pstat('ibohbfb9q_ima.fits',stat='midpt',units='counts')"
   ]
  },
  {
   "cell_type": "markdown",
   "metadata": {},
   "source": [
    "The median count rate varies by nearly a factor of 3, from ~0.5 e/s at the beginning of the exposure to ~1.5 e/s at the end of the exposure. "
   ]
  },
  {
   "cell_type": "code",
   "execution_count": null,
   "metadata": {},
   "outputs": [],
   "source": [
    "time2,rate2  =wfc3tools.pstat('ibohbfb9q_ima.fits',stat='midpt',units='rate')\n",
    "plt.ylim(0.3,1.8)"
   ]
  },
  {
   "cell_type": "markdown",
   "metadata": {},
   "source": [
    "# Recalibrate the data\n",
    "\n",
    "Here we recalibrate the raw data using calwf3, with the 'ramp fitting' step turned off.\n",
    "Next we remove the median background per read from the resulting IMA file.\n",
    "Finally, we rerun calwf3 on the corrected IMA, with 'ramp fitting' turned on, in order to properly flag and reject cosmic rays."
   ]
  },
  {
   "cell_type": "markdown",
   "metadata": {},
   "source": [
    "First, we set environment variables define a path to the reference files "
   ]
  },
  {
   "cell_type": "code",
   "execution_count": null,
   "metadata": {
    "collapsed": true
   },
   "outputs": [],
   "source": [
    "os.environ['CRDS_SERVER_URL'] = 'https://hst-crds.stsci.edu'\n",
    "os.environ['CRDS_SERVER'] = 'https://hst-crds.stsci.edu'\n",
    "os.environ['CRDS_PATH'] = './crds_cache'\n",
    "os.environ['IREF'] = './crds_cache/references/hst/wfc3/'\n",
    "os.environ['iref'] = './crds_cache/references/hst/wfc3/'"
   ]
  },
  {
   "cell_type": "markdown",
   "metadata": {},
   "source": [
    "Next, we download the 'bestrefs' for these RAW files"
   ]
  },
  {
   "cell_type": "code",
   "execution_count": null,
   "metadata": {
    "collapsed": true
   },
   "outputs": [],
   "source": [
    "raw_files = glob.glob('*_raw.fits')\n",
    "\n",
    "for fil in raw_files:\n",
    "    !crds bestrefs --files $fil --sync-references=1 --update-bestrefs"
   ]
  },
  {
   "cell_type": "markdown",
   "metadata": {},
   "source": [
    "Run calwf3 on the affected file, setting CRCORR=OMIT to perform all steps except the ramp fitting."
   ]
  },
  {
   "cell_type": "code",
   "execution_count": null,
   "metadata": {
    "collapsed": true
   },
   "outputs": [],
   "source": [
    "os.rename('ibohbfb9q_ima.fits', 'ibohbfb9q_ima_orig.fits')\n",
    "os.rename('ibohbfb9q_flt.fits', 'ibohbfb9q_flt_orig.fits')\n",
    "\n",
    "raw_file = 'ibohbfb9q_raw.fits'\n",
    "raw=fits.open(raw_file,mode='update')\n",
    "raw[0].header['CRCORR'] ='OMIT'\n",
    "raw.flush()\n",
    "\n",
    "wfc3tools.calwf3(raw_file )\n",
    "\n",
    "os.rename('ibohbfb9q_flt.fits', 'ibohbfb9q_flt_norampfit.fits')"
   ]
  },
  {
   "cell_type": "markdown",
   "metadata": {},
   "source": [
    "# Remove Median background per read from the IMA\n",
    "This technique works best for relatively sparse fields, where the median value of the ramp is equivalent to the sky level. Additional lower or upper thresholds may be applied to fine-tune the calculation of the median sky value. "
   ]
  },
  {
   "cell_type": "code",
   "execution_count": null,
   "metadata": {},
   "outputs": [],
   "source": [
    "ima = fits.open(raw_file.replace('raw','ima'), mode ='update')\n",
    "\n",
    "### You can define a subregion for stats. Here we use the whole image, minus the 5 pixel wide overscan regions\n",
    "stats_region =[[5,1014], [5,1014]]\n",
    "slx = slice(stats_region[0][0], stats_region[0][1])\n",
    "sly = slice(stats_region[1][0], stats_region[1][1])\n",
    "\n",
    "### Subtract the median countrate from each read and add back the full exposure countrate to preserve pixel statistics\n",
    "   \n",
    "total_countrate = np.median(ima['SCI',1].data[sly, slx])\n",
    "    \n",
    "for i in range(ima[0].header['NSAMP'] -1):\n",
    "    med = np.median(ima['SCI',i+1].data[sly, slx])\n",
    "    ima['SCI',i+1].data += total_countrate - med\n",
    "    print('%s, [SCI,%d], median_bkg: %.2f' %(raw_file, i+1, med))    \n",
    "    \n",
    "## Turn back on the ramp fitting for running calwf3 in the next step\n",
    "ima[0].header['CRCORR'] ='PERFORM'\n",
    "\n",
    "### Write the updated IMA\n",
    "ima.flush()   "
   ]
  },
  {
   "cell_type": "markdown",
   "metadata": {},
   "source": [
    "Recall that the extension [SCI,1] is the last read in the IMA file. These numbers show that the increased background signal occurred in the middle and at the end of the b9q exposure, just prior to Earth occultation, where the countrate is a factor of 3 larger than at the beginning of the exposure."
   ]
  },
  {
   "cell_type": "markdown",
   "metadata": {
    "nbpresent": {
     "id": "927b9c58-0191-49a0-a5fd-faa64b7b800e"
    }
   },
   "source": [
    "# Resume calwf3 \n",
    "\n",
    "Run calwf3 on the cleaned IMA with only the CRCORR step turned on. This produces a corrected IMA and FLT image."
   ]
  },
  {
   "cell_type": "code",
   "execution_count": null,
   "metadata": {
    "collapsed": true
   },
   "outputs": [],
   "source": [
    "wfc3tools.calwf3(raw_file.replace('raw','ima'))\n",
    "\n",
    "### Clean up and rename files\n",
    "os.remove('ibohbfb9q_ima.fits')\n",
    "os.rename('ibohbfb9q_ima_ima.fits','ibohbfb9q_ima.fits')\n",
    "os.rename('ibohbfb9q_ima_flt.fits','ibohbfb9q_flt.fits')"
   ]
  },
  {
   "cell_type": "markdown",
   "metadata": {},
   "source": [
    "# Compare the Original and Corrected FLT products to the uneffected prior exposure"
   ]
  },
  {
   "cell_type": "code",
   "execution_count": null,
   "metadata": {},
   "outputs": [],
   "source": [
    "##Display the images\n",
    "flt1    =fits.getdata('ibohbfb7q_flt.fits'     ,ext=1)\n",
    "flt2    =fits.getdata('ibohbfb9q_flt_orig.fits',ext=1)\n",
    "flt2corr=fits.getdata('ibohbfb9q_flt.fits'     ,ext=1)\n",
    "\n",
    "fig=plt.figure(figsize=(20,10))\n",
    "ax1=fig.add_subplot(1,3,1)\n",
    "ax2=fig.add_subplot(1,3,2)\n",
    "ax3=fig.add_subplot(1,3,3)\n",
    "\n",
    "ax1.imshow(flt1,    vmin=0.25,vmax=1.25,cmap='Greys_r',origin='lower')\n",
    "ax2.imshow(flt2,    vmin=1.30,vmax=2.30,cmap='Greys_r',origin='lower')\n",
    "ax3.imshow(flt2corr,vmin=1.30,vmax=2.30,cmap='Greys_r',origin='lower')\n",
    "\n",
    "ax1.set_title('ibohbfb7q (Linear Bkg)'     ,fontsize=20)\n",
    "ax2.set_title('ibohbfb9q (Non-linear Bkg)' ,fontsize=20)\n",
    "ax3.set_title('ibohbfb9q (Corrected Bkg)',fontsize=20)"
   ]
  },
  {
   "cell_type": "code",
   "execution_count": null,
   "metadata": {},
   "outputs": [],
   "source": [
    "### Plot the histograms\n",
    "flt1f     = flt1.flatten()\n",
    "flt2f     = flt2.flatten()\n",
    "flt2fcorr = flt2corr.flatten()\n",
    "\n",
    "fig=plt.figure(figsize=(20,5))\n",
    "ax1=fig.add_subplot(1,3,1)\n",
    "ax2=fig.add_subplot(1,3,2)\n",
    "ax3=fig.add_subplot(1,3,3)\n",
    "\n",
    "n, bins, patches = ax1.hist(flt1f,    bins=200,range=(0,1))\n",
    "n, bins, patches = ax2.hist(flt2f,    bins=200,range=(1,2))\n",
    "n, bins, patches = ax3.hist(flt2fcorr,bins=200,range=(1,2))\n",
    "\n",
    "ax1.set_title('ibohbfb7q (Linear Bkg)',fontsize=20)\n",
    "ax2.set_title('ibohbfb9q (Non-linear Bkg)',fontsize=20)\n",
    "ax3.set_title('ibohbfb9q (Corrected)',fontsize=20)"
   ]
  },
  {
   "cell_type": "markdown",
   "metadata": {},
   "source": [
    "# Compare the background noise\n",
    "Below we compute the mean, median, and standard deviation of the background (in electrons/sec) of different FLT data products. "
   ]
  },
  {
   "cell_type": "code",
   "execution_count": null,
   "metadata": {},
   "outputs": [],
   "source": [
    "w=np.where((0. < flt1f) & (flt1f < 1.))\n",
    "flt1_mean=  np.mean(flt1f[w])\n",
    "flt1_med =np.median(flt1f[w])\n",
    "flt1_std =   np.std(flt1f[w])\n",
    "\n",
    "w=np.where((1. < flt2f) & (flt2f < 2.))\n",
    "flt2_mean=  np.mean(flt2f[w])\n",
    "flt2_med =np.median(flt2f[w])\n",
    "flt2_std =   np.std(flt2f[w])\n",
    "\n",
    "w=np.where((1. < flt2fcorr) & (flt2fcorr < 2.))\n",
    "flt2f_mean=  np.mean(flt2fcorr[w])\n",
    "flt2f_med =np.median(flt2fcorr[w])\n",
    "flt2f_std =   np.std(flt2fcorr[w])\n",
    "\n",
    "print('%s'                     %('RAMP             Filename                 Mean    Median  Stdev') )\n",
    "print('%s  %.3f   %.3f   %.3f' %('Linear Bkg       ibojbfb7q_flt          ',flt1_mean, flt1_med, flt1_std))    \n",
    "print('%s  %.3f   %.3f   %.3f' %('Non-Linear Bkg   ibojbfb9q_flt_orig.fits',flt2_mean, flt2_med, flt2_std))    \n",
    "print('%s  %.3f   %.3f   %.3f' %('Corrected Bkg    ibojbfb9q_flt.fits     ',flt2f_mean,flt2f_med,flt2f_std)) "
   ]
  },
  {
   "cell_type": "markdown",
   "metadata": {},
   "source": [
    "----\n",
    "The standard deviation of the background in the corrected B9Q file has improved by nearly a factor of 4, compared to the original pipeline product. This value is now similar to the background standard deviation in the B7Q file taken in the first half of the orbit, which had a linear background in most of the reads.\n",
    "\n",
    "Below we plot the original and the corrected ramps for exposure B9Q and show how the median background rate is now flat across all of the ramps. "
   ]
  },
  {
   "cell_type": "code",
   "execution_count": null,
   "metadata": {},
   "outputs": [],
   "source": [
    "##Plot the original ramp\n",
    "time,rate=wfc3tools.pstat('ibohbfb9q_ima_orig.fits',stat='midpt',units='rate')\n",
    "plt.ylim(0.3,1.8)"
   ]
  },
  {
   "cell_type": "code",
   "execution_count": null,
   "metadata": {},
   "outputs": [],
   "source": [
    "##Plot the corrected ramp\n",
    "time,rate=wfc3tools.pstat('ibohbfb9q_ima.fits',stat='midpt',units='rate')\n",
    "plt.ylim(0.3,1.8)"
   ]
  },
  {
   "cell_type": "markdown",
   "metadata": {},
   "source": [
    "# Morphology\n",
    "\n",
    "The improved FLT products can be particularly important for studies of faint, extended sources. \n",
    "\n",
    "The cutouts below show a ~200x200 subsection (~25x25\") of the original and corrected FLT data product."
   ]
  },
  {
   "cell_type": "code",
   "execution_count": null,
   "metadata": {},
   "outputs": [],
   "source": [
    "##Display the images\n",
    "flt2    =fits.getdata('ibohbfb9q_flt_orig.fits',ext=1)\n",
    "flt2corr=fits.getdata('ibohbfb9q_flt.fits',ext=1)\n",
    "\n",
    "fig=plt.figure(figsize=(20,8))\n",
    "ax1=fig.add_subplot(1,2,1)\n",
    "ax2=fig.add_subplot(1,2,2)\n",
    "\n",
    "ax1.imshow(    flt2[520:720,750:970], vmin=1.3,vmax=2.5,cmap='Greys_r',origin='lower')\n",
    "ax2.imshow(flt2corr[520:720,750:970], vmin=1.3,vmax=2.5,cmap='Greys_r',origin='lower')\n",
    "\n",
    "ax1.set_title('ibohbfb9q (Non-linear Bkg)',fontsize=20)\n",
    "ax2.set_title('ibohbfb9q (Corrected Bkg)',fontsize=20)"
   ]
  },
  {
   "cell_type": "markdown",
   "metadata": {
    "nbpresent": {
     "id": "6413c886-77af-4d74-9609-dbcc47d6a0b1"
    }
   },
   "source": [
    "# Summary\n",
    "\n",
    "The corrected FLT files may now be used directly with DrizzlePac tools such as TweakReg and AstroDrizzle to align and combine multiple images.\n"
   ]
  },
  {
   "cell_type": "markdown",
   "metadata": {},
   "source": [
    "# About this Notebook\n",
    "\n",
    "    Author: J. Mack, STScI WFC3 Team\n",
    "    Updated: September 2018"
   ]
  }
 ],
 "metadata": {
  "kernelspec": {
   "display_name": "Python 3",
   "language": "python",
   "name": "python3"
  },
  "language_info": {
   "codemirror_mode": {
    "name": "ipython",
    "version": 3
   },
   "file_extension": ".py",
   "mimetype": "text/x-python",
   "name": "python",
   "nbconvert_exporter": "python",
   "pygments_lexer": "ipython3",
   "version": "3.5.4"
  }
 },
 "nbformat": 4,
 "nbformat_minor": 2
}
