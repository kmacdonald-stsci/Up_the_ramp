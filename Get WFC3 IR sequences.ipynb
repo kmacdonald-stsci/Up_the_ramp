{
 "cells": [
  {
   "cell_type": "markdown",
   "metadata": {
    "collapsed": true
   },
   "source": [
    "## Notebook to get the WFC3/IR sampling sequences from the html version of the DHB and parse them into something readable"
   ]
  },
  {
   "cell_type": "code",
   "execution_count": null,
   "metadata": {
    "collapsed": true
   },
   "outputs": [],
   "source": [
    "import pandas as pd\n",
    "import numpy as np"
   ]
  },
  {
   "cell_type": "code",
   "execution_count": null,
   "metadata": {
    "collapsed": true
   },
   "outputs": [],
   "source": [
    "tb = pd.read_html('http://www.stsci.edu/hst/wfc3/documents/handbooks/currentIHB/c07_ir08.html#400649')"
   ]
  },
  {
   "cell_type": "code",
   "execution_count": null,
   "metadata": {
    "collapsed": true
   },
   "outputs": [],
   "source": [
    "df = tb[-3]\n",
    "df = df.drop(labels=[0,1])\n",
    "df = df.drop(labels=[2,9],axis=1)\n",
    "\n",
    "sn = ['NSAMP','RAPID','SPARS5','SPARS10','SPARS25','SPARS50','SPARS100','SPARS200','STEP25','STEP50','STEP100','STEP200','STEP400']\n",
    "\n",
    "df.columns = sn\n",
    "df = df.reset_index(drop=True)\n",
    "df"
   ]
  },
  {
   "cell_type": "code",
   "execution_count": null,
   "metadata": {
    "collapsed": true
   },
   "outputs": [],
   "source": [
    "# step to print the table in a nice formatted way for python-hard coding\n",
    "\n",
    "for col in df.columns:\n",
    "    print('if samp_seq ==',col,':')\n",
    "    v= df[col].values.astype(np.float_)\n",
    "    s= '    read_times = np.array([   0.0000,'\n",
    "    for l in range(15):\n",
    "        s=s+'{:9.4f},'.format(v[l])\n",
    "    s = s[:-1]+'], dtype=np.float_)'\n",
    "    print(s)"
   ]
  }
 ],
 "metadata": {
  "kernelspec": {
   "display_name": "Python 3",
   "language": "python",
   "name": "python3"
  },
  "language_info": {
   "codemirror_mode": {
    "name": "ipython",
    "version": 3
   },
   "file_extension": ".py",
   "mimetype": "text/x-python",
   "name": "python",
   "nbconvert_exporter": "python",
   "pygments_lexer": "ipython3",
   "version": "3.5.4"
  }
 },
 "nbformat": 4,
 "nbformat_minor": 2
}
